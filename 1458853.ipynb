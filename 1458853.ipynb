{
 "cells": [
  {
   "cell_type": "code",
   "execution_count": 3,
   "metadata": {
    "scrolled": true
   },
   "outputs": [
    {
     "name": "stdout",
     "output_type": "stream",
     "text": [
      "10 customers went home happy with cabbages.\n",
      "2 customers went home unhappy without cabbages.\n",
      "10 cabbages sadly went rotten.\n"
     ]
    }
   ],
   "source": [
    "import des\n",
    "\n",
    "first_cabbages = des.GenerateAtStart(num=3)\n",
    "\n",
    "cabbages_on_shelf = des.AdvanceTimeUniformDistributionRotten(low=7, high=12)\n",
    "\n",
    "cabbage_rotten_cntr = des.EntityCounter()\n",
    "\n",
    "cabbage_reorder_proc = des.AdvanceTimeUniformDistributionReordered(low=1, high=15)\n",
    "\n",
    "first_cabbages.set_target(cabbages_on_shelf)\n",
    "\n",
    "cabbages_on_shelf.set_target(cabbage_rotten_cntr)\n",
    "\n",
    "cabbage_rotten_cntr.set_target(cabbage_reorder_proc)\n",
    "\n",
    "cabbage_reorder_proc.set_target(cabbages_on_shelf)\n",
    "\n",
    "cust_entry = des.GenerateEntityUniformDistribution()\n",
    "\n",
    "cust_leave_happy_cntr = des.EntityCounter()\n",
    "\n",
    "cust_leave_unhappy_cntr = des.EntityCounter()\n",
    "\n",
    "cust_leave_happy = des.TerminateEntity()\n",
    "\n",
    "cust_leave_unhappy = des.TerminateEntity()\n",
    "\n",
    "get_cabbage = des.DisplaceEntity(from_place=cabbages_on_shelf, to=cabbage_reorder_proc)\n",
    "\n",
    "cust_entry.set_target(get_cabbage)\n",
    "\n",
    "get_cabbage.add_transition(cust_leave_happy_cntr, alternative=cust_leave_unhappy_cntr)\n",
    "\n",
    "get_cabbage.set_target(cust_entry)\n",
    "\n",
    "cust_leave_happy_cntr.set_target(cust_leave_happy)\n",
    "\n",
    "cust_leave_unhappy_cntr.set_target(cust_leave_unhappy)\n",
    "\n",
    "simulation = des.Simulation(cust_entry, first_cabbages)\n",
    "\n",
    "simulation.run(stop_after=(cust_leave_happy, 10))\n",
    "\n",
    "print(cust_leave_happy.count(), \"customers went home happy with cabbages.\")\n",
    "\n",
    "print(cust_leave_unhappy.count(), \"customers went home unhappy without cabbages.\")\n",
    "\n",
    "print(cabbage_rotten_cntr.total_count, \"cabbages sadly went rotten.\")"
   ]
  },
  {
   "cell_type": "code",
   "execution_count": null,
   "metadata": {},
   "outputs": [],
   "source": []
  },
  {
   "cell_type": "code",
   "execution_count": null,
   "metadata": {},
   "outputs": [],
   "source": []
  },
  {
   "cell_type": "code",
   "execution_count": null,
   "metadata": {},
   "outputs": [],
   "source": []
  },
  {
   "cell_type": "code",
   "execution_count": null,
   "metadata": {},
   "outputs": [],
   "source": []
  }
 ],
 "metadata": {
  "kernelspec": {
   "display_name": "Python 3",
   "language": "python",
   "name": "python3"
  },
  "language_info": {
   "codemirror_mode": {
    "name": "ipython",
    "version": 3
   },
   "file_extension": ".py",
   "mimetype": "text/x-python",
   "name": "python",
   "nbconvert_exporter": "python",
   "pygments_lexer": "ipython3",
   "version": "3.6.7"
  }
 },
 "nbformat": 4,
 "nbformat_minor": 2
}
