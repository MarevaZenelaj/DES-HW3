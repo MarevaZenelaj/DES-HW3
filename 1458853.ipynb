{
 "cells": [
  {
   "cell_type": "code",
   "execution_count": 1,
   "metadata": {
    "scrolled": true
   },
   "outputs": [
    {
     "name": "stdout",
     "output_type": "stream",
     "text": [
      "[(<des.GenerateEntityUniformDistribution object at 0x0000020C4B7215C0>, 0)] 0\n",
      "entered\n",
      "[(<des.DisplaceEntity object at 0x0000020C4B721668>, 0)] 0\n"
     ]
    },
    {
     "ename": "AttributeError",
     "evalue": "'NoneType' object has no attribute 'low'",
     "output_type": "error",
     "traceback": [
      "\u001b[1;31m---------------------------------------------------------------------------\u001b[0m",
      "\u001b[1;31mAttributeError\u001b[0m                            Traceback (most recent call last)",
      "\u001b[1;32m<ipython-input-1-e755946a30e0>\u001b[0m in \u001b[0;36m<module>\u001b[1;34m\u001b[0m\n\u001b[0;32m     41\u001b[0m \u001b[0msimulation\u001b[0m \u001b[1;33m=\u001b[0m \u001b[0mdes\u001b[0m\u001b[1;33m.\u001b[0m\u001b[0mSimulation\u001b[0m\u001b[1;33m(\u001b[0m\u001b[0mcust_entry\u001b[0m\u001b[1;33m,\u001b[0m\u001b[0mfirst_cabbages\u001b[0m\u001b[1;33m)\u001b[0m\u001b[1;33m\u001b[0m\u001b[1;33m\u001b[0m\u001b[0m\n\u001b[0;32m     42\u001b[0m \u001b[1;33m\u001b[0m\u001b[0m\n\u001b[1;32m---> 43\u001b[1;33m \u001b[0msimulation\u001b[0m\u001b[1;33m.\u001b[0m\u001b[0mrun\u001b[0m\u001b[1;33m(\u001b[0m\u001b[0mstop_after\u001b[0m\u001b[1;33m=\u001b[0m\u001b[1;33m(\u001b[0m\u001b[0mcust_leave_happy\u001b[0m\u001b[1;33m,\u001b[0m\u001b[1;36m10\u001b[0m\u001b[1;33m)\u001b[0m\u001b[1;33m)\u001b[0m \u001b[1;31m#stop when 10 customers leave happy.\u001b[0m\u001b[1;33m\u001b[0m\u001b[1;33m\u001b[0m\u001b[0m\n\u001b[0m\u001b[0;32m     44\u001b[0m \u001b[1;33m\u001b[0m\u001b[0m\n\u001b[0;32m     45\u001b[0m \u001b[0mprint\u001b[0m\u001b[1;33m(\u001b[0m\u001b[0mcust_leave_happy\u001b[0m\u001b[1;33m.\u001b[0m\u001b[0mcount\u001b[0m\u001b[1;33m(\u001b[0m\u001b[1;33m)\u001b[0m\u001b[1;33m,\u001b[0m\u001b[1;34m\"customers went home happy with cabbages.\"\u001b[0m\u001b[1;33m)\u001b[0m\u001b[1;33m\u001b[0m\u001b[1;33m\u001b[0m\u001b[0m\n",
      "\u001b[1;32m~\\Desktop\\hw3\\hw3\\des.py\u001b[0m in \u001b[0;36mrun\u001b[1;34m(self, stop_after)\u001b[0m\n\u001b[0;32m    163\u001b[0m                 \u001b[0mself\u001b[0m\u001b[1;33m.\u001b[0m\u001b[0madvanceTimeCabbage\u001b[0m\u001b[1;33m(\u001b[0m\u001b[0mnext_event\u001b[0m\u001b[1;33m)\u001b[0m\u001b[1;33m\u001b[0m\u001b[1;33m\u001b[0m\u001b[0m\n\u001b[0;32m    164\u001b[0m             \u001b[1;32melif\u001b[0m\u001b[1;33m(\u001b[0m\u001b[0mnext_event\u001b[0m\u001b[1;33m[\u001b[0m\u001b[1;36m0\u001b[0m\u001b[1;33m]\u001b[0m\u001b[1;33m.\u001b[0m\u001b[0mtype\u001b[0m \u001b[1;33m==\u001b[0m \u001b[1;34m'Displacement'\u001b[0m\u001b[1;33m)\u001b[0m\u001b[1;33m:\u001b[0m\u001b[1;33m\u001b[0m\u001b[1;33m\u001b[0m\u001b[0m\n\u001b[1;32m--> 165\u001b[1;33m                 \u001b[0mself\u001b[0m\u001b[1;33m.\u001b[0m\u001b[0mget_cabbages_displacement\u001b[0m\u001b[1;33m(\u001b[0m\u001b[0mnext_event\u001b[0m\u001b[1;33m)\u001b[0m\u001b[1;33m\u001b[0m\u001b[1;33m\u001b[0m\u001b[0m\n\u001b[0m\u001b[0;32m    166\u001b[0m \u001b[1;33m\u001b[0m\u001b[0m\n\u001b[0;32m    167\u001b[0m \u001b[1;33m\u001b[0m\u001b[0m\n",
      "\u001b[1;32m~\\Desktop\\hw3\\hw3\\des.py\u001b[0m in \u001b[0;36mget_cabbages_displacement\u001b[1;34m(self, next_event)\u001b[0m\n\u001b[0;32m    127\u001b[0m             \u001b[0mself\u001b[0m\u001b[1;33m.\u001b[0m\u001b[0mstock\u001b[0m \u001b[1;33m-=\u001b[0m \u001b[1;36m1\u001b[0m\u001b[1;33m\u001b[0m\u001b[1;33m\u001b[0m\u001b[0m\n\u001b[0;32m    128\u001b[0m         \u001b[0mentity\u001b[0m \u001b[1;33m=\u001b[0m \u001b[0mAdvanceTimeUniformDistribution\u001b[0m\u001b[1;33m(\u001b[0m\u001b[0mnext_event\u001b[0m\u001b[1;33m[\u001b[0m\u001b[1;36m0\u001b[0m\u001b[1;33m]\u001b[0m\u001b[1;33m.\u001b[0m\u001b[0mto\u001b[0m\u001b[1;33m.\u001b[0m\u001b[0mlow\u001b[0m\u001b[1;33m,\u001b[0m \u001b[0mnext_event\u001b[0m\u001b[1;33m[\u001b[0m\u001b[1;36m0\u001b[0m\u001b[1;33m]\u001b[0m\u001b[1;33m.\u001b[0m\u001b[0mto\u001b[0m\u001b[1;33m.\u001b[0m\u001b[0mhigh\u001b[0m\u001b[1;33m)\u001b[0m\u001b[1;33m\u001b[0m\u001b[1;33m\u001b[0m\u001b[0m\n\u001b[1;32m--> 129\u001b[1;33m         \u001b[0mcustomerEntity\u001b[0m \u001b[1;33m=\u001b[0m \u001b[0mGenerateEntityUniformDistribution\u001b[0m\u001b[1;33m(\u001b[0m\u001b[0mnext_event\u001b[0m\u001b[1;33m[\u001b[0m\u001b[1;36m0\u001b[0m\u001b[1;33m]\u001b[0m\u001b[1;33m.\u001b[0m\u001b[0mtarget\u001b[0m\u001b[1;33m.\u001b[0m\u001b[0mlow\u001b[0m\u001b[1;33m,\u001b[0m \u001b[0mnext_event\u001b[0m\u001b[1;33m[\u001b[0m\u001b[1;36m0\u001b[0m\u001b[1;33m]\u001b[0m\u001b[1;33m.\u001b[0m\u001b[0mtarget\u001b[0m\u001b[1;33m.\u001b[0m\u001b[0mhigh\u001b[0m\u001b[1;33m)\u001b[0m\u001b[1;33m\u001b[0m\u001b[1;33m\u001b[0m\u001b[0m\n\u001b[0m\u001b[0;32m    130\u001b[0m         \u001b[0mself\u001b[0m\u001b[1;33m.\u001b[0m\u001b[0mfuture_event_list\u001b[0m\u001b[1;33m.\u001b[0m\u001b[0mappend\u001b[0m\u001b[1;33m(\u001b[0m\u001b[1;33m(\u001b[0m\u001b[0mentity\u001b[0m\u001b[1;33m,\u001b[0m\u001b[0mself\u001b[0m\u001b[1;33m.\u001b[0m\u001b[0mclock\u001b[0m \u001b[1;33m+\u001b[0m \u001b[0mentity\u001b[0m\u001b[1;33m.\u001b[0m\u001b[0mreturnrandom\u001b[0m\u001b[1;33m(\u001b[0m\u001b[1;33m)\u001b[0m\u001b[1;33m)\u001b[0m\u001b[1;33m)\u001b[0m\u001b[1;33m\u001b[0m\u001b[1;33m\u001b[0m\u001b[0m\n\u001b[0;32m    131\u001b[0m         \u001b[0mself\u001b[0m\u001b[1;33m.\u001b[0m\u001b[0mfuture_event_list\u001b[0m\u001b[1;33m.\u001b[0m\u001b[0mappend\u001b[0m\u001b[1;33m(\u001b[0m\u001b[1;33m(\u001b[0m\u001b[0mcustomerEntity\u001b[0m\u001b[1;33m,\u001b[0m \u001b[0mself\u001b[0m\u001b[1;33m.\u001b[0m\u001b[0mclock\u001b[0m \u001b[1;33m+\u001b[0m \u001b[0mcustomerEntity\u001b[0m\u001b[1;33m.\u001b[0m\u001b[0mreturnrand\u001b[0m\u001b[1;33m(\u001b[0m\u001b[1;33m)\u001b[0m\u001b[1;33m)\u001b[0m\u001b[1;33m)\u001b[0m\u001b[1;33m\u001b[0m\u001b[1;33m\u001b[0m\u001b[0m\n",
      "\u001b[1;31mAttributeError\u001b[0m: 'NoneType' object has no attribute 'low'"
     ]
    }
   ],
   "source": [
    "import des\n",
    "\n",
    "first_cabbages = des.GenerateAtStart(num=3) # for 3 cabbages in stock\n",
    "\n",
    "cabbages_on_shelf = des.AdvanceTimeUniformDistribution(low=7,high=12)\n",
    "\n",
    "cabbage_rotten_cntr = des.EntityCounter()\n",
    "\n",
    "cabbage_reorder_proc = des.AdvanceTimeUniformDistribution(low=1,high=15)\n",
    "\n",
    "first_cabbages.set_target(cabbages_on_shelf)\n",
    "\n",
    "cabbages_on_shelf.set_target(cabbage_rotten_cntr)\n",
    "\n",
    "cabbage_rotten_cntr.set_target(cabbage_reorder_proc)\n",
    "\n",
    "cabbage_reorder_proc.set_target(cabbages_on_shelf)\n",
    "\n",
    "cust_entry = des.GenerateEntityUniformDistribution(low=0,high=3)\n",
    "\n",
    "cust_leave_happy_cntr = des.EntityCounter()\n",
    "\n",
    "cust_leave_unhappy_cntr = des.EntityCounter()\n",
    "\n",
    "cust_leave_happy = des.TerminateEntity()\n",
    "\n",
    "cust_leave_unhappy = des.TerminateEntity()\n",
    "\n",
    "get_cabbage = des.DisplaceEntity(From=cabbages_on_shelf,to=cabbage_reorder_proc)\n",
    "\n",
    "cust_entry.set_target(get_cabbage)\n",
    "\n",
    "get_cabbage.add_transition(cust_leave_happy_cntr,alternative=cust_leave_unhappy_cntr)\n",
    "\n",
    "cust_leave_happy_cntr.set_target(cust_leave_happy)\n",
    "\n",
    "cust_leave_unhappy_cntr.set_target(cust_leave_unhappy)\n",
    "\n",
    "get_cabbage.set_target(cust_entry)\n",
    "\n",
    "simulation = des.Simulation(cust_entry,first_cabbages)\n",
    "\n",
    "simulation.run(stop_after=(cust_leave_happy,10)) #stop when 10 customers leave happy.\n",
    "\n",
    "print(cust_leave_happy.count(),\"customers went home happy with cabbages.\")\n",
    "\n",
    "print(cust_leave_unhappy.count(),\"customers went home unhappy without cabbages.\")\n",
    "\n",
    "print(cabbage_rotten_cntr.total_count(),\"cabbages sadly went wrotten.\")"
   ]
  },
  {
   "cell_type": "code",
   "execution_count": null,
   "metadata": {},
   "outputs": [],
   "source": []
  },
  {
   "cell_type": "code",
   "execution_count": null,
   "metadata": {},
   "outputs": [],
   "source": []
  },
  {
   "cell_type": "code",
   "execution_count": null,
   "metadata": {},
   "outputs": [],
   "source": []
  },
  {
   "cell_type": "code",
   "execution_count": null,
   "metadata": {},
   "outputs": [],
   "source": []
  }
 ],
 "metadata": {
  "kernelspec": {
   "display_name": "Python 3",
   "language": "python",
   "name": "python3"
  },
  "language_info": {
   "codemirror_mode": {
    "name": "ipython",
    "version": 3
   },
   "file_extension": ".py",
   "mimetype": "text/x-python",
   "name": "python",
   "nbconvert_exporter": "python",
   "pygments_lexer": "ipython3",
   "version": "3.7.1"
  }
 },
 "nbformat": 4,
 "nbformat_minor": 2
}
