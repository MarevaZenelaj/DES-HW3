{
 "cells": [
  {
   "cell_type": "code",
   "execution_count": 3,
   "metadata": {
    "scrolled": true
   },
   "outputs": [
    {
     "name": "stdout",
     "output_type": "stream",
     "text": [
      "[(<des.GenerateEntityUniformDistribution object at 0x0000028C952D0160>, 2)]\n",
      "entered\n",
      "[(<des.DisplaceEntity object at 0x0000028C952D0208>, 2)]\n",
      "0 customers went home happy with cabbages.\n",
      "0 customers went home unhappy without cabbages.\n"
     ]
    },
    {
     "ename": "TypeError",
     "evalue": "'int' object is not callable",
     "output_type": "error",
     "traceback": [
      "\u001b[1;31m---------------------------------------------------------------------------\u001b[0m",
      "\u001b[1;31mTypeError\u001b[0m                                 Traceback (most recent call last)",
      "\u001b[1;32m<ipython-input-3-b2dade2a07df>\u001b[0m in \u001b[0;36m<module>\u001b[1;34m\u001b[0m\n\u001b[0;32m     45\u001b[0m \u001b[0mprint\u001b[0m\u001b[1;33m(\u001b[0m\u001b[0mcust_leave_unhappy\u001b[0m\u001b[1;33m.\u001b[0m\u001b[0mcount\u001b[0m\u001b[1;33m(\u001b[0m\u001b[1;33m)\u001b[0m\u001b[1;33m,\u001b[0m\u001b[1;34m\"customers went home unhappy without cabbages.\"\u001b[0m\u001b[1;33m)\u001b[0m\u001b[1;33m\u001b[0m\u001b[1;33m\u001b[0m\u001b[0m\n\u001b[0;32m     46\u001b[0m \u001b[1;33m\u001b[0m\u001b[0m\n\u001b[1;32m---> 47\u001b[1;33m \u001b[0mprint\u001b[0m\u001b[1;33m(\u001b[0m\u001b[0mcabbage_rotten_cntr\u001b[0m\u001b[1;33m.\u001b[0m\u001b[0mtotal_count\u001b[0m\u001b[1;33m(\u001b[0m\u001b[1;33m)\u001b[0m\u001b[1;33m,\u001b[0m\u001b[1;34m\"cabbages sadly went wrotten.\"\u001b[0m\u001b[1;33m)\u001b[0m\u001b[1;33m\u001b[0m\u001b[1;33m\u001b[0m\u001b[0m\n\u001b[0m",
      "\u001b[1;31mTypeError\u001b[0m: 'int' object is not callable"
     ]
    }
   ],
   "source": [
    "import des\n",
    "\n",
    "first_cabbages = des.GenerateAtStart(num=3) # for 3 cabbages in stock\n",
    "\n",
    "cabbages_on_shelf = des.AdvanceTimeUniformDistribution(low=7,high=12)\n",
    "\n",
    "cabbage_rotten_cntr = des.EntityCounter()\n",
    "\n",
    "cabbage_reorder_proc = des.AdvanceTimeUniformDistribution(low=1,high=15)\n",
    "\n",
    "first_cabbages.set_target(cabbages_on_shelf)\n",
    "\n",
    "cabbages_on_shelf.set_target(cabbage_rotten_cntr)\n",
    "\n",
    "cabbage_rotten_cntr.set_target(cabbage_reorder_proc)\n",
    "\n",
    "cabbage_reorder_proc.set_target(cabbages_on_shelf)\n",
    "\n",
    "cust_entry = des.GenerateEntityUniformDistribution(low=0,high=3)\n",
    "\n",
    "cust_leave_happy_cntr = des.EntityCounter()\n",
    "\n",
    "cust_leave_unhappy_cntr = des.EntityCounter()\n",
    "\n",
    "cust_leave_happy = des.TerminateEntity()\n",
    "\n",
    "cust_leave_unhappy = des.TerminateEntity()\n",
    "\n",
    "get_cabbage = des.DisplaceEntity(From=cabbages_on_shelf,to=cabbage_reorder_proc)\n",
    "\n",
    "cust_entry.set_target(get_cabbage)\n",
    "\n",
    "get_cabbage.add_transition(cust_leave_happy_cntr,alternative=cust_leave_unhappy_cntr)\n",
    "\n",
    "cust_leave_happy_cntr.set_target(cust_leave_happy)\n",
    "\n",
    "cust_leave_unhappy_cntr.set_target(cust_leave_unhappy)\n",
    "\n",
    "simulation = des.Simulation(cust_entry,first_cabbages)\n",
    "\n",
    "simulation.run(stop_after=(cust_leave_happy,10)) #stop when 10 customers leave happy.\n",
    "\n",
    "print(cust_leave_happy.count(),\"customers went home happy with cabbages.\")\n",
    "\n",
    "print(cust_leave_unhappy.count(),\"customers went home unhappy without cabbages.\")\n",
    "\n",
    "print(cabbage_rotten_cntr.total_count(),\"cabbages sadly went wrotten.\")"
   ]
  },
  {
   "cell_type": "markdown",
   "metadata": {},
   "source": []
  },
  {
   "cell_type": "code",
   "execution_count": null,
   "metadata": {},
   "outputs": [],
   "source": []
  },
  {
   "cell_type": "code",
   "execution_count": null,
   "metadata": {},
   "outputs": [],
   "source": []
  },
  {
   "cell_type": "code",
   "execution_count": null,
   "metadata": {},
   "outputs": [],
   "source": []
  },
  {
   "cell_type": "code",
   "execution_count": null,
   "metadata": {},
   "outputs": [],
   "source": []
  }
 ],
 "metadata": {
  "kernelspec": {
   "display_name": "Python 3",
   "language": "python",
   "name": "python3"
  },
  "language_info": {
   "codemirror_mode": {
    "name": "ipython",
    "version": 3
   },
   "file_extension": ".py",
   "mimetype": "text/x-python",
   "name": "python",
   "nbconvert_exporter": "python",
   "pygments_lexer": "ipython3",
   "version": "3.7.1"
  }
 },
 "nbformat": 4,
 "nbformat_minor": 2
}
