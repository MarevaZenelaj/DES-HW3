{
 "cells": [
  {
   "cell_type": "code",
   "execution_count": 2,
   "metadata": {
    "scrolled": true
   },
   "outputs": [
    {
     "ename": "TypeError",
     "evalue": "__init__() got an unexpected keyword argument 'From'",
     "output_type": "error",
     "traceback": [
      "\u001b[0;31m---------------------------------------------------------------------------\u001b[0m",
      "\u001b[0;31mTypeError\u001b[0m                                 Traceback (most recent call last)",
      "\u001b[0;32m<ipython-input-2-66dc7a46229b>\u001b[0m in \u001b[0;36m<module>\u001b[0;34m\u001b[0m\n\u001b[1;32m     27\u001b[0m \u001b[0mcust_leave_unhappy\u001b[0m \u001b[0;34m=\u001b[0m \u001b[0mdes\u001b[0m\u001b[0;34m.\u001b[0m\u001b[0mTerminateEntity\u001b[0m\u001b[0;34m(\u001b[0m\u001b[0;34m)\u001b[0m\u001b[0;34m\u001b[0m\u001b[0;34m\u001b[0m\u001b[0m\n\u001b[1;32m     28\u001b[0m \u001b[0;34m\u001b[0m\u001b[0m\n\u001b[0;32m---> 29\u001b[0;31m \u001b[0mget_cabbage\u001b[0m \u001b[0;34m=\u001b[0m \u001b[0mdes\u001b[0m\u001b[0;34m.\u001b[0m\u001b[0mDisplaceEntity\u001b[0m\u001b[0;34m(\u001b[0m\u001b[0mFrom\u001b[0m\u001b[0;34m=\u001b[0m\u001b[0mcabbages_on_shelf\u001b[0m\u001b[0;34m,\u001b[0m\u001b[0mto\u001b[0m\u001b[0;34m=\u001b[0m\u001b[0mcabbage_reorder_proc\u001b[0m\u001b[0;34m)\u001b[0m\u001b[0;34m\u001b[0m\u001b[0;34m\u001b[0m\u001b[0m\n\u001b[0m\u001b[1;32m     30\u001b[0m \u001b[0;34m\u001b[0m\u001b[0m\n\u001b[1;32m     31\u001b[0m \u001b[0mcust_entry\u001b[0m\u001b[0;34m.\u001b[0m\u001b[0mset_target\u001b[0m\u001b[0;34m(\u001b[0m\u001b[0mget_cabbage\u001b[0m\u001b[0;34m)\u001b[0m\u001b[0;34m\u001b[0m\u001b[0;34m\u001b[0m\u001b[0m\n",
      "\u001b[0;31mTypeError\u001b[0m: __init__() got an unexpected keyword argument 'From'"
     ]
    }
   ],
   "source": [
    "import des\n",
    "\n",
    "first_cabbages = des.GenerateAtStart(num=3)\n",
    "\n",
    "cabbages_on_shelf = des.AdvanceTimeUniformDistributionRotten(low=7, high=12)\n",
    "\n",
    "cabbage_rotten_cntr = des.EntityCounter()\n",
    "\n",
    "cabbage_reorder_proc = des.AdvanceTimeUniformDistributionReordered(low=1, high=15)\n",
    "\n",
    "first_cabbages.set_target(cabbages_on_shelf)\n",
    "\n",
    "cabbages_on_shelf.set_target(cabbage_rotten_cntr)\n",
    "\n",
    "cabbage_rotten_cntr.set_target(cabbage_reorder_proc)\n",
    "\n",
    "cabbage_reorder_proc.set_target(cabbages_on_shelf)\n",
    "\n",
    "cust_entry = des.GenerateEntityUniformDistribution(low=0, high=3)\n",
    "\n",
    "cust_leave_happy_cntr = des.EntityCounter()\n",
    "\n",
    "cust_leave_unhappy_cntr = des.EntityCounter()\n",
    "\n",
    "cust_leave_happy = des.TerminateEntity()\n",
    "\n",
    "cust_leave_unhappy = des.TerminateEntity()\n",
    "\n",
    "get_cabbage = des.DisplaceEntity(from_place=cabbages_on_shelf, to=cabbage_reorder_proc)\n",
    "\n",
    "cust_entry.set_target(get_cabbage)\n",
    "\n",
    "get_cabbage.add_transition(cust_leave_happy_cntr, alternative=cust_leave_unhappy_cntr)\n",
    "\n",
    "get_cabbage.set_target(cust_entry)\n",
    "\n",
    "cust_leave_happy_cntr.set_target(cust_leave_happy)\n",
    "\n",
    "cust_leave_unhappy_cntr.set_target(cust_leave_unhappy)\n",
    "\n",
    "\n",
    "simulation = des.Simulation(cust_entry, first_cabbages)\n",
    "\n",
    "simulation.run(stop_after=(cust_leave_happy, 10))\n",
    "\n",
    "print(cust_leave_happy.count(), \"customers went home happy with cabbages.\")\n",
    "\n",
    "print(cust_leave_unhappy.count(), \"customers went home unhappy without cabbages.\")\n",
    "\n",
    "print(cabbage_rotten_cntr.total_count, \"cabbages sadly went rotten.\")"
   ]
  },
  {
   "cell_type": "code",
   "execution_count": null,
   "metadata": {},
   "outputs": [],
   "source": []
  },
  {
   "cell_type": "code",
   "execution_count": null,
   "metadata": {},
   "outputs": [],
   "source": []
  },
  {
   "cell_type": "code",
   "execution_count": null,
   "metadata": {},
   "outputs": [],
   "source": []
  },
  {
   "cell_type": "code",
   "execution_count": null,
   "metadata": {},
   "outputs": [],
   "source": []
  }
 ],
 "metadata": {
  "kernelspec": {
   "display_name": "Python 3",
   "language": "python",
   "name": "python3"
  },
  "language_info": {
   "codemirror_mode": {
    "name": "ipython",
    "version": 3
   },
   "file_extension": ".py",
   "mimetype": "text/x-python",
   "name": "python",
   "nbconvert_exporter": "python",
   "pygments_lexer": "ipython3",
   "version": "3.6.7"
  }
 },
 "nbformat": 4,
 "nbformat_minor": 2
}
