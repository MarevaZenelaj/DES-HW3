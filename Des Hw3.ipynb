{
 "cells": [
  {
   "cell_type": "markdown",
   "metadata": {},
   "source": [
    "Question 1: \n",
    "Note(These functions are also included in des.py)"
   ]
  },
  {
   "cell_type": "code",
   "execution_count": 20,
   "metadata": {},
   "outputs": [],
   "source": [
    "from random import randint\n",
    "from matplotlib import pyplot as plt\n",
    "import simulation"
   ]
  },
  {
   "cell_type": "code",
   "execution_count": 21,
   "metadata": {},
   "outputs": [],
   "source": [
    "def randomNumber(lowerLimit, upperLimit,k):\n",
    "    seed = 0\n",
    "    m = 100\n",
    "    a = 21\n",
    "    c = 49\n",
    "    y = seed\n",
    "    list_numbers = {y}\n",
    "    for i in range(k):\n",
    "        y = (y*a+c) % m\n",
    "        list_numbers.add(y)    \n",
    "    return list_numbers"
   ]
  },
  {
   "cell_type": "code",
   "execution_count": 22,
   "metadata": {},
   "outputs": [],
   "source": [
    "def customRandomNumber(lowerLimit, upperLimit):\n",
    "    sequence = list(randomNumber(lowerLimit, upperLimit,100000))\n",
    "    index = int(randint(0, len(sequence)-1))\n",
    "    return sequence[index]*(upperLimit-lowerLimit)/100+ lowerLimit"
   ]
  },
  {
   "cell_type": "markdown",
   "metadata": {},
   "source": [
    "The randomNumber function returns a list of numbers, which are actually saved in a set so that there would be no duplications, then the customRandomNumber function calls the randomNumber function with a k value of 100000 and saves the list of number in the variable named sequence, then to get an index of the sequence, randint between the beginning and the end of the sequence is called. then the random number is returned."
   ]
  },
  {
   "cell_type": "markdown",
   "metadata": {},
   "source": [
    "In order to test the uniformity of the random number generator, in the following cells, there are 100000 random numbers generated and plotted, and as seen further below, the histogram does resemble a uniform probability distribution."
   ]
  },
  {
   "cell_type": "code",
   "execution_count": 49,
   "metadata": {},
   "outputs": [],
   "source": [
    "test = [customRandomNumber(0,5) for i in range(100000)]"
   ]
  },
  {
   "cell_type": "code",
   "execution_count": 51,
   "metadata": {},
   "outputs": [
    {
     "data": {
      "image/png": "[encoded data removed]",
      "text/plain": [
       "<Figure size 432x288 with 1 Axes>"
      ]
     },
     "metadata": {
      "needs_background": "light"
     },
     "output_type": "display_data"
    }
   ],
   "source": [
    "plot_test = plt.hist(test, bins=30)"
   ]
  },
  {
   "cell_type": "markdown",
   "metadata": {},
   "source": [
    "Question 2: Input Modelling"
   ]
  },
  {
   "cell_type": "markdown",
   "metadata": {},
   "source": [
    "a) customer_arrivals.csv, val and train sets"
   ]
  },
  {
   "cell_type": "code",
   "execution_count": 23,
   "metadata": {},
   "outputs": [],
   "source": [
    "import csv\n",
    "import pandas as pd\n",
    "import matplotlib.pyplot as plt\n",
    "import math\n",
    "from matplotlib.pyplot import xlabel, ylabel, title\n",
    "from random import expovariate"
   ]
  },
  {
   "cell_type": "code",
   "execution_count": 24,
   "metadata": {},
   "outputs": [],
   "source": [
    "with open('customer_arrivals.csv', 'r') as f:\n",
    "    reader = csv.reader(f)\n",
    "    your_list = list(reader)\n",
    "\n",
    "customer_arrivals = []\n",
    "for element in range(0,len(your_list)):\n",
    "    changed = float(your_list[element][0])\n",
    "    customer_arrivals.append(changed)"
   ]
  },
  {
   "cell_type": "code",
   "execution_count": 25,
   "metadata": {},
   "outputs": [],
   "source": [
    "customer_inter_arrivals = []\n",
    "for i in range(1, len(customer_arrivals)):\n",
    "    customer_inter_arrivals.append(customer_arrivals[i]-customer_arrivals[i-1])\n"
   ]
  },
  {
   "cell_type": "markdown",
   "metadata": {},
   "source": [
    "The customer_inter_arrival list is separated into two sublists where the analysis one is made of 80% of the main list and the 20% that's left is the validation list."
   ]
  },
  {
   "cell_type": "code",
   "execution_count": 26,
   "metadata": {},
   "outputs": [],
   "source": [
    "customer_inter_arrivals_analysis = customer_inter_arrivals[:math.floor(80/100*len(customer_inter_arrivals))]"
   ]
  },
  {
   "cell_type": "code",
   "execution_count": 27,
   "metadata": {},
   "outputs": [],
   "source": [
    "customer_inter_arrivals_val = customer_inter_arrivals[math.floor(80/100*len(customer_inter_arrivals)):]"
   ]
  },
  {
   "cell_type": "code",
   "execution_count": null,
   "metadata": {},
   "outputs": [],
   "source": []
  },
  {
   "cell_type": "markdown",
   "metadata": {},
   "source": [
    "b) Visualization of the analysis data. "
   ]
  },
  {
   "cell_type": "code",
   "execution_count": 28,
   "metadata": {},
   "outputs": [
    {
     "data": {
      "text/plain": [
       "Text(0.5, 1.0, 'Visualization of the analysis data')"
      ]
     },
     "execution_count": 28,
     "metadata": {},
     "output_type": "execute_result"
    },
    {
     "data": {
      "image/png": "[encoded data removed]",
      "text/plain": [
       "<Figure size 432x288 with 1 Axes>"
      ]
     },
     "metadata": {
      "needs_background": "light"
     },
     "output_type": "display_data"
    }
   ],
   "source": [
    "histt = plt.hist(customer_inter_arrivals_analysis, bins=40)\n",
    "xlabel('Inter arrival times')\n",
    "ylabel('Frequency')\n",
    "title('Visualization of the analysis data')"
   ]
  },
  {
   "cell_type": "markdown",
   "metadata": {},
   "source": [
    "As seen in the histogram above, the data follows an exponential distribution. "
   ]
  },
  {
   "cell_type": "markdown",
   "metadata": {},
   "source": [
    "c) Exponential distribution is the chosen prametric distribution. A parametric model will be fitted."
   ]
  },
  {
   "cell_type": "markdown",
   "metadata": {},
   "source": [
    "d) The parameters of the parametric distribution."
   ]
  },
  {
   "cell_type": "code",
   "execution_count": 29,
   "metadata": {},
   "outputs": [],
   "source": [
    "exponential_lambda = len(customer_inter_arrivals_analysis)/sum(customer_inter_arrivals_analysis)"
   ]
  },
  {
   "cell_type": "code",
   "execution_count": 30,
   "metadata": {},
   "outputs": [
    {
     "data": {
      "text/plain": [
       "0.3347536271959042"
      ]
     },
     "execution_count": 30,
     "metadata": {},
     "output_type": "execute_result"
    }
   ],
   "source": [
    "exponential_lambda"
   ]
  },
  {
   "cell_type": "code",
   "execution_count": 31,
   "metadata": {},
   "outputs": [
    {
     "data": {
      "text/plain": [
       "0.5824980407583745"
      ]
     },
     "execution_count": 31,
     "metadata": {},
     "output_type": "execute_result"
    }
   ],
   "source": [
    "expovariate(exponential_lambda)"
   ]
  },
  {
   "cell_type": "code",
   "execution_count": 32,
   "metadata": {},
   "outputs": [],
   "source": [
    "exponential_data = [expovariate(exponential_lambda) for x in range(len(customer_inter_arrivals_analysis))]"
   ]
  },
  {
   "cell_type": "code",
   "execution_count": 33,
   "metadata": {},
   "outputs": [
    {
     "data": {
      "text/plain": [
       "Text(0.5, 1.0, 'Visualization of data from exponential distribution')"
      ]
     },
     "execution_count": 33,
     "metadata": {},
     "output_type": "execute_result"
    },
    {
     "data": {
      "image/png": "[encoded data removed]",
      "text/plain": [
       "<Figure size 432x288 with 1 Axes>"
      ]
     },
     "metadata": {
      "needs_background": "light"
     },
     "output_type": "display_data"
    }
   ],
   "source": [
    "histt = plt.hist(exponential_data, bins=40)\n",
    "xlabel('Inter arrival times')\n",
    "ylabel('Frequency')\n",
    "title('Visualization of data from exponential distribution')"
   ]
  },
  {
   "cell_type": "markdown",
   "metadata": {},
   "source": [
    "As viewed from the two graphs above, they are quite similar which confirms the choice of the appropriate probability distribution. "
   ]
  },
  {
   "cell_type": "markdown",
   "metadata": {},
   "source": [
    "e) The simulation from assignment 2 is used for this part and is fixed regarding these probability distributions."
   ]
  },
  {
   "cell_type": "markdown",
   "metadata": {},
   "source": [
    "The simulation model is edited so that the selected probability distribution is used for customer's arrival. However the other random numbers are generated from the function wrote for Question 1."
   ]
  },
  {
   "cell_type": "markdown",
   "metadata": {},
   "source": [
    "In order to run the simulation model, the following line can be executed and the function will show the number of happy customers, unhappy ones and rotten cabbages."
   ]
  },
  {
   "cell_type": "code",
   "execution_count": 34,
   "metadata": {},
   "outputs": [
    {
     "name": "stdout",
     "output_type": "stream",
     "text": [
      "5 customers went home happy with cabbages.\n",
      "2 customers went home unhappy without cabbages.\n",
      "5 cabbages sadly went rotten.\n"
     ]
    }
   ],
   "source": [
    "simulation.run(8, 5)"
   ]
  },
  {
   "cell_type": "code",
   "execution_count": null,
   "metadata": {},
   "outputs": [],
   "source": []
  },
  {
   "cell_type": "markdown",
   "metadata": {},
   "source": [
    "3. Input Validation"
   ]
  },
  {
   "cell_type": "code",
   "execution_count": 35,
   "metadata": {},
   "outputs": [],
   "source": [
    "customer_inter_arrivals_val = customer_inter_arrivals[math.floor(80/100*len(customer_inter_arrivals)):]"
   ]
  },
  {
   "cell_type": "markdown",
   "metadata": {},
   "source": [
    "The CDF of the model.\n",
    "\n",
    "$F(x)=1-e^{-\\lambda x}$"
   ]
  },
  {
   "cell_type": "code",
   "execution_count": 36,
   "metadata": {},
   "outputs": [],
   "source": [
    "import math\n",
    "\n",
    "def exponential_cdf(lambdaparameter,value):\n",
    "    return 1 - math.exp(-lambdaparameter*value)"
   ]
  },
  {
   "cell_type": "code",
   "execution_count": 37,
   "metadata": {},
   "outputs": [],
   "source": [
    "def exponential_cdf_lambda(value):\n",
    "    return exponential_cdf(exponential_lambda,value)"
   ]
  },
  {
   "cell_type": "code",
   "execution_count": 38,
   "metadata": {},
   "outputs": [],
   "source": [
    "def exponential_cdf_inv(lambdaparam,F):\n",
    "    return -math.log(1-F)/lambdaparam"
   ]
  },
  {
   "cell_type": "markdown",
   "metadata": {},
   "source": [
    "Quantile Quantile Plot"
   ]
  },
  {
   "cell_type": "code",
   "execution_count": 39,
   "metadata": {},
   "outputs": [
    {
     "data": {
      "text/plain": [
       "<matplotlib.legend.Legend at 0x1fd248532b0>"
      ]
     },
     "execution_count": 39,
     "metadata": {},
     "output_type": "execute_result"
    },
    {
     "data": {
      "image/png": "[encoded data removed]",
      "text/plain": [
       "<Figure size 432x288 with 1 Axes>"
      ]
     },
     "metadata": {
      "needs_background": "light"
     },
     "output_type": "display_data"
    }
   ],
   "source": [
    "data = customer_inter_arrivals_val\n",
    "expected = []\n",
    "data = sorted(data)\n",
    "for i in range(len(data)):\n",
    "    expected.append(exponential_cdf_inv(exponential_lambda,(i-0.5)/len(data)))\n",
    "xlabel(\"Empirical\")\n",
    "ylabel(\"Theoretical\")\n",
    "title('Quantile-Quantile plot')\n",
    "plt.plot(expected, data, label='observed')\n",
    "plt.plot(expected, expected, 'r', label='expected')\n",
    "plt.legend()"
   ]
  },
  {
   "cell_type": "code",
   "execution_count": 40,
   "metadata": {},
   "outputs": [],
   "source": [
    "def Dstatistic(data):\n",
    "\n",
    "    data = sorted(data)\n",
    "    maxdiff = 0\n",
    "    for i in range(len(data)):\n",
    "        theoretical_cdf = exponential_cdf_lambda(data[i])\n",
    "        empirical_cdf = i/len(data)\n",
    "        maxdiff = max(maxdiff,abs(theoretical_cdf-empirical_cdf))\n",
    "        empirical_cdf = (i+1)/len(data)\n",
    "        maxdiff = max(maxdiff,abs(theoretical_cdf-empirical_cdf))\n",
    "\n",
    "    return maxdiff"
   ]
  },
  {
   "cell_type": "code",
   "execution_count": 41,
   "metadata": {},
   "outputs": [
    {
     "name": "stdout",
     "output_type": "stream",
     "text": [
      "0.06198550932354141\n"
     ]
    }
   ],
   "source": [
    "print(Dstatistic(customer_inter_arrivals_val))\n",
    "data = customer_inter_arrivals_val"
   ]
  },
  {
   "cell_type": "code",
   "execution_count": 42,
   "metadata": {},
   "outputs": [
    {
     "data": {
      "image/png": "[encoded data removed]",
      "text/plain": [
       "<Figure size 432x288 with 1 Axes>"
      ]
     },
     "metadata": {
      "needs_background": "light"
     },
     "output_type": "display_data"
    },
    {
     "data": {
      "text/plain": [
       "0.06198550932354141"
      ]
     },
     "execution_count": 42,
     "metadata": {},
     "output_type": "execute_result"
    }
   ],
   "source": [
    "plotx = []\n",
    "plot_theoretical_y = []\n",
    "plot_empirical_y = []\n",
    "data = sorted(data)\n",
    "plt.figure()\n",
    "maxdiff = 0\n",
    "for i in range(len(data)):\n",
    "    theoretical_cdf = exponential_cdf_lambda(data[i])\n",
    "    empirical_cdf = i/len(data)\n",
    "    plotx.append(data[i])\n",
    "    plot_theoretical_y.append(theoretical_cdf)\n",
    "    plot_empirical_y.append(empirical_cdf)\n",
    "    maxdiff = max(maxdiff,abs(theoretical_cdf-empirical_cdf))\n",
    "\n",
    "    empirical_cdf = (i+1)/len(data)\n",
    "    plotx.append(data[i])\n",
    "    plot_theoretical_y.append(theoretical_cdf)\n",
    "    plot_empirical_y.append(empirical_cdf)\n",
    "    maxdiff = max(maxdiff,abs(theoretical_cdf-empirical_cdf))\n",
    "\n",
    "plt.plot(plotx,plot_theoretical_y,'r',label='theoretical')\n",
    "plt.plot(plotx,plot_empirical_y,'b',label='actual')\n",
    "plt.title('Expected empirical cumulative distribution vs. actual.')\n",
    "plt.xlabel('Value')\n",
    "plt.ylabel('Cumulative proportion')\n",
    "plt.legend()\n",
    "plt.show()\n",
    "maxdiff"
   ]
  },
  {
   "cell_type": "code",
   "execution_count": null,
   "metadata": {},
   "outputs": [],
   "source": []
  },
  {
   "cell_type": "code",
   "execution_count": null,
   "metadata": {},
   "outputs": [],
   "source": []
  },
  {
   "cell_type": "markdown",
   "metadata": {},
   "source": [
    "4. Input Output Validation\n"
   ]
  },
  {
   "cell_type": "code",
   "execution_count": 43,
   "metadata": {},
   "outputs": [],
   "source": [
    "with open('experiments.csv', 'r') as f:\n",
    "    reader = csv.reader(f)\n",
    "    your_list = list(reader)\n",
    "Numcabbagesshelf = []\n",
    "Numcabbagesbought = []\n",
    "Numcustomerswithoutcabbages = []\n",
    "Numrottencabbages = []\n",
    "for i in range(1,len(your_list)):\n",
    "    Numcabbagesshelf.append(int(your_list[i][1]))\n",
    "    Numcabbagesbought.append(int(your_list[i][2]))\n",
    "    Numcustomerswithoutcabbages.append(int(your_list[i][3]))\n",
    "    Numrottencabbages.append(int(your_list[i][4]))\n",
    "    "
   ]
  },
  {
   "cell_type": "code",
   "execution_count": 44,
   "metadata": {},
   "outputs": [
    {
     "data": {
      "text/plain": [
       "[['HDR',\n",
       "  'Num cabbages on shelf',\n",
       "  'Num cabbages bought',\n",
       "  'Num customers without cabbages',\n",
       "  'Num rotten cabbages'],\n",
       " ['EXP', '8', '968', '32', '606'],\n",
       " ['EXP', '9', '993', '7', '706'],\n",
       " ['EXP', '10', '991', '9', '952']]"
      ]
     },
     "execution_count": 44,
     "metadata": {},
     "output_type": "execute_result"
    }
   ],
   "source": [
    "your_list"
   ]
  },
  {
   "cell_type": "code",
   "execution_count": null,
   "metadata": {},
   "outputs": [],
   "source": []
  },
  {
   "cell_type": "code",
   "execution_count": null,
   "metadata": {},
   "outputs": [],
   "source": [
    "simulation.run(8,Numcabbagesbought[0])"
   ]
  },
  {
   "cell_type": "code",
   "execution_count": null,
   "metadata": {},
   "outputs": [],
   "source": [
    "NUM_SAMPLES = 10000"
   ]
  },
  {
   "cell_type": "code",
   "execution_count": 50,
   "metadata": {},
   "outputs": [],
   "source": [
    "sim_Dstats=[]\n",
    "for sample_num in range(NUM_SAMPLES):\n",
    "    sim_data = [expovariate(1) for d in range(len(data))]\n",
    "    D = Dstatistic(sim_data)\n",
    "    sim_Dstats.append(D)"
   ]
  },
  {
   "cell_type": "code",
   "execution_count": 51,
   "metadata": {},
   "outputs": [
    {
     "data": {
      "image/png": "[encoded data removed]",
      "text/plain": [
       "<Figure size 432x288 with 1 Axes>"
      ]
     },
     "metadata": {
      "needs_background": "light"
     },
     "output_type": "display_data"
    }
   ],
   "source": [
    "plt.hist(sim_Dstats,bins=30)\n",
    "plt.ylabel('Count')\n",
    "plt.xlabel('D statistic for difference of 8 data points from expected')\n",
    "plt.show()"
   ]
  },
  {
   "cell_type": "code",
   "execution_count": 52,
   "metadata": {},
   "outputs": [
    {
     "data": {
      "text/plain": [
       "0.48387456364465276"
      ]
     },
     "execution_count": 52,
     "metadata": {},
     "output_type": "execute_result"
    }
   ],
   "source": [
    "Pvalue_thresh=0.001\n",
    "\n",
    "sim_Dstats=sorted(sim_Dstats)\n",
    "thresh_index = int((1-Pvalue_thresh)*len(sim_Dstats))\n",
    "Dstat_thresh=sim_Dstats[thresh_index]\n",
    "Dstat_thresh"
   ]
  },
  {
   "cell_type": "code",
   "execution_count": 60,
   "metadata": {},
   "outputs": [
    {
     "data": {
      "image/png": "[encoded data removed]",
      "text/plain": [
       "<Figure size 432x288 with 1 Axes>"
      ]
     },
     "metadata": {
      "needs_background": "light"
     },
     "output_type": "display_data"
    }
   ],
   "source": [
    "plt.hist(sim_Dstats,bins=30)\n",
    "plt.axvline(Dstatistic(data),color='r')\n",
    "plt.axvline(Dstat_thresh,color='g')\n",
    "plt.ylabel('Count')\n",
    "plt.xlabel('D statistic for difference of 8 data points from expected')\n",
    "plt.show()"
   ]
  },
  {
   "cell_type": "code",
   "execution_count": 59,
   "metadata": {},
   "outputs": [
    {
     "data": {
      "text/plain": [
       "1.0"
      ]
     },
     "execution_count": 59,
     "metadata": {},
     "output_type": "execute_result"
    }
   ],
   "source": [
    "bigger_dstats = [d for d in sim_Dstats if d>Dstatistic(data)]\n",
    "Pvalue_effective = len(bigger_dstats)/len(sim_Dstats)\n",
    "Pvalue_effective"
   ]
  },
  {
   "cell_type": "markdown",
   "metadata": {},
   "source": [
    "5. Experimentation"
   ]
  },
  {
   "cell_type": "markdown",
   "metadata": {},
   "source": [
    "scatter plots"
   ]
  },
  {
   "cell_type": "code",
   "execution_count": 89,
   "metadata": {},
   "outputs": [],
   "source": [
    "expectedData = [expovariate(exponential_lambda) for x in range(len(data))]"
   ]
  },
  {
   "cell_type": "code",
   "execution_count": 98,
   "metadata": {},
   "outputs": [
    {
     "data": {
      "text/plain": [
       "<matplotlib.legend.Legend at 0x7f584a9109e8>"
      ]
     },
     "execution_count": 98,
     "metadata": {},
     "output_type": "execute_result"
    },
    {
     "data": {
      "image/png": "[encoded data removed]",
      "text/plain": [
       "<Figure size 432x288 with 1 Axes>"
      ]
     },
     "metadata": {
      "needs_background": "light"
     },
     "output_type": "display_data"
    }
   ],
   "source": [
    "plt.scatter(expectedData, data, color='g', label='Simulation')\n",
    "plt.scatter(data, expectedData, color='r', label='Reality')\n",
    "plt.title('Scattered data from real and simulated models.')\n",
    "plt.xlabel('Value')\n",
    "plt.ylabel('Value')\n",
    "plt.legend()\n"
   ]
  },
  {
   "cell_type": "code",
   "execution_count": null,
   "metadata": {},
   "outputs": [],
   "source": []
  }
 ],
 "metadata": {
  "kernelspec": {
   "display_name": "Python 3",
   "language": "python",
   "name": "python3"
  },
  "language_info": {
   "codemirror_mode": {
    "name": "ipython",
    "version": 3
   },
   "file_extension": ".py",
   "mimetype": "text/x-python",
   "name": "python",
   "nbconvert_exporter": "python",
   "pygments_lexer": "ipython3",
   "version": "3.7.1"
  }
 },
 "nbformat": 4,
 "nbformat_minor": 2
}
